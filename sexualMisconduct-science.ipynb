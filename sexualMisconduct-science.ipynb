{
 "cells": [
  {
   "cell_type": "code",
   "execution_count": 1,
   "metadata": {},
   "outputs": [],
   "source": [
    "%matplotlib inline\n",
    "import matplotlib.pyplot as plt\n",
    "\n",
    "import pandas as pd\n",
    "import numpy as np\n",
    "\n",
    "import re\n",
    "import glob\n",
    "import csv\n",
    "\n",
    "import time\n",
    "\n",
    "import nltk\n",
    "\n",
    "from sklearn.externals import joblib"
   ]
  },
  {
   "cell_type": "code",
   "execution_count": 2,
   "metadata": {},
   "outputs": [
    {
     "name": "stdout",
     "output_type": "stream",
     "text": [
      "  Last Update  Year of First Incident    Year            Name  \\\n",
      "0     10/1/18                  1975.0  1981.0    Harry Keller   \n",
      "1     8/17/18                     NaN  1982.0    Barry Singer   \n",
      "2     8/17/18                     NaN  1982.0  Leonard Levitt   \n",
      "3     8/17/18                     NaN  1983.0             NaN   \n",
      "4     8/17/18                     NaN  1983.0   NAME WITHHELD   \n",
      "\n",
      "  Multiple Institutions/Positions (repeat misconduct)  \\\n",
      "0                                                NaN    \n",
      "1                                                NaN    \n",
      "2                                                NaN    \n",
      "3                                                NaN    \n",
      "4                                                NaN    \n",
      "\n",
      "  Administrator, Department, Faculty, Researcher, Coach Position Title  \\\n",
      "0                                            Faculty         Professor   \n",
      "1                                            Faculty               NaN   \n",
      "2                                            Faculty               NaN   \n",
      "3                                         Department               NaN   \n",
      "4                                            Faculty               NaN   \n",
      "\n",
      "     Discipline or Domain Institution and/or Professional Society  \\\n",
      "0                 Physics                        St. Olaf College   \n",
      "1              Psychology  California State University-Long Beach   \n",
      "2  Chemistry/Biochemistry             University of Texas-El Paso   \n",
      "3                 Anatomy                      University of Iowa   \n",
      "4              Psychology                  University of Michigan   \n",
      "\n",
      "                        Details of Outcome           Outcome    Color  \\\n",
      "0    \"COLLEGE ACTED TO END HIS EMPLOYMENT\"             fired  #f15924   \n",
      "1  SUSPENDED FOR DATING STUDENTS/RESIGNED.  resigned/retired  #f7931e   \n",
      "2                                   FIRED.             fired  #f15924   \n",
      "3       LEGAL FINDING OF SEXUAL HARASSMENT         no action  #ffff00   \n",
      "4                                RESIGNED.  resigned/retired  #f7931e   \n",
      "\n",
      "                                             Link(s)  \n",
      "0  https://www.manitoumessenger.com/2017/former-p...  \n",
      "1  http://www.upi.com/Archives/1982/06/03/Sex-pro...  \n",
      "2  http://openjurist.org/847/f2d/221/levitt-v-uni...  \n",
      "3  http://www.leagle.com/decision/19901695749FSup...  \n",
      "4  http://www.thecrimson.com/article/1983/11/10/h...  \n",
      "(226, 13)\n"
     ]
    }
   ],
   "source": [
    "df = pd.read_csv('data/sexualMisconduct_science.csv')\n",
    "print(df.head())\n",
    "print(df.shape)"
   ]
  },
  {
   "cell_type": "code",
   "execution_count": 3,
   "metadata": {},
   "outputs": [
    {
     "name": "stdout",
     "output_type": "stream",
     "text": [
      "    Last Update  Year of First Incident  Year Name  \\\n",
      "221         NaN                     NaN   NaN  NaN   \n",
      "222         NaN                     NaN   NaN  NaN   \n",
      "223         NaN                     NaN   NaN  NaN   \n",
      "224         NaN                     NaN   NaN  NaN   \n",
      "225         NaN                     NaN   NaN  NaN   \n",
      "\n",
      "    Multiple Institutions/Positions (repeat misconduct)  \\\n",
      "221                                                NaN    \n",
      "222                                                NaN    \n",
      "223                                                NaN    \n",
      "224                                                NaN    \n",
      "225                                                NaN    \n",
      "\n",
      "    Administrator, Department, Faculty, Researcher, Coach Position Title  \\\n",
      "221                                                NaN               NaN   \n",
      "222                                                NaN               NaN   \n",
      "223                                                NaN               NaN   \n",
      "224                                                NaN               NaN   \n",
      "225                                                NaN               NaN   \n",
      "\n",
      "    Discipline or Domain Institution and/or Professional Society  \\\n",
      "221                  NaN                                     NaN   \n",
      "222                  NaN                                     NaN   \n",
      "223                  NaN                                     NaN   \n",
      "224                  NaN                                     NaN   \n",
      "225                  NaN                                     NaN   \n",
      "\n",
      "    Details of Outcome Outcome Color Link(s)  \n",
      "221                NaN     NaN   NaN     NaN  \n",
      "222                NaN     NaN   NaN     NaN  \n",
      "223                NaN     NaN   NaN     NaN  \n",
      "224                NaN     NaN   NaN     NaN  \n",
      "225                NaN     NaN   NaN     NaN  \n"
     ]
    }
   ],
   "source": [
    "print(df.tail())"
   ]
  },
  {
   "cell_type": "code",
   "execution_count": 4,
   "metadata": {},
   "outputs": [
    {
     "data": {
      "text/html": [
       "<div>\n",
       "<style scoped>\n",
       "    .dataframe tbody tr th:only-of-type {\n",
       "        vertical-align: middle;\n",
       "    }\n",
       "\n",
       "    .dataframe tbody tr th {\n",
       "        vertical-align: top;\n",
       "    }\n",
       "\n",
       "    .dataframe thead th {\n",
       "        text-align: right;\n",
       "    }\n",
       "</style>\n",
       "<table border=\"1\" class=\"dataframe\">\n",
       "  <thead>\n",
       "    <tr style=\"text-align: right;\">\n",
       "      <th></th>\n",
       "      <th>Year of First Incident</th>\n",
       "      <th>Year</th>\n",
       "    </tr>\n",
       "  </thead>\n",
       "  <tbody>\n",
       "    <tr>\n",
       "      <th>count</th>\n",
       "      <td>24.000000</td>\n",
       "      <td>189.000000</td>\n",
       "    </tr>\n",
       "    <tr>\n",
       "      <th>mean</th>\n",
       "      <td>2007.916667</td>\n",
       "      <td>2008.947090</td>\n",
       "    </tr>\n",
       "    <tr>\n",
       "      <th>std</th>\n",
       "      <td>12.967909</td>\n",
       "      <td>9.718777</td>\n",
       "    </tr>\n",
       "    <tr>\n",
       "      <th>min</th>\n",
       "      <td>1975.000000</td>\n",
       "      <td>1981.000000</td>\n",
       "    </tr>\n",
       "    <tr>\n",
       "      <th>25%</th>\n",
       "      <td>2009.750000</td>\n",
       "      <td>2003.000000</td>\n",
       "    </tr>\n",
       "    <tr>\n",
       "      <th>50%</th>\n",
       "      <td>2013.500000</td>\n",
       "      <td>2014.000000</td>\n",
       "    </tr>\n",
       "    <tr>\n",
       "      <th>75%</th>\n",
       "      <td>2016.000000</td>\n",
       "      <td>2017.000000</td>\n",
       "    </tr>\n",
       "    <tr>\n",
       "      <th>max</th>\n",
       "      <td>2018.000000</td>\n",
       "      <td>2018.000000</td>\n",
       "    </tr>\n",
       "  </tbody>\n",
       "</table>\n",
       "</div>"
      ],
      "text/plain": [
       "       Year of First Incident         Year\n",
       "count               24.000000   189.000000\n",
       "mean              2007.916667  2008.947090\n",
       "std                 12.967909     9.718777\n",
       "min               1975.000000  1981.000000\n",
       "25%               2009.750000  2003.000000\n",
       "50%               2013.500000  2014.000000\n",
       "75%               2016.000000  2017.000000\n",
       "max               2018.000000  2018.000000"
      ]
     },
     "execution_count": 4,
     "metadata": {},
     "output_type": "execute_result"
    }
   ],
   "source": [
    "df.describe()"
   ]
  },
  {
   "cell_type": "code",
   "execution_count": 5,
   "metadata": {},
   "outputs": [
    {
     "data": {
      "text/plain": [
       "Last Update                                               object\n",
       "Year of First Incident                                   float64\n",
       "Year                                                     float64\n",
       "Name                                                      object\n",
       "Multiple Institutions/Positions (repeat misconduct)       object\n",
       "Administrator, Department, Faculty, Researcher, Coach     object\n",
       "Position Title                                            object\n",
       "Discipline or Domain                                      object\n",
       "Institution and/or Professional Society                   object\n",
       "Details of Outcome                                        object\n",
       "Outcome                                                   object\n",
       "Color                                                     object\n",
       "Link(s)                                                   object\n",
       "dtype: object"
      ]
     },
     "execution_count": 5,
     "metadata": {},
     "output_type": "execute_result"
    }
   ],
   "source": [
    "df.dtypes"
   ]
  },
  {
   "cell_type": "code",
   "execution_count": 6,
   "metadata": {},
   "outputs": [
    {
     "name": "stdout",
     "output_type": "stream",
     "text": [
      "Medicine                                                36\n",
      "Psychology                                              35\n",
      "Bioscience                                              25\n",
      "Mathematics/Statistics                                  17\n",
      "Chemistry/Biochemistry                                  13\n",
      "Physics                                                 10\n",
      "Geoscience/Geography                                    10\n",
      "Computer Science                                         9\n",
      "Engineering                                              8\n",
      "Astronomy                                                3\n",
      "Neuroscience                                             3\n",
      "Veterinary Medicine                                      3\n",
      "Dentistry                                                2\n",
      "Anatomy                                                  2\n",
      "Geography                                                2\n",
      "Osteopathic Medicine                                     1\n",
      "Bioscience, Entomology                                   1\n",
      "Chemical and Biomolecular Engineering                    1\n",
      "Computing, Engineering, and Construction                 1\n",
      "Microbiology                                             1\n",
      "Bioresource and Agricultural Engineering                 1\n",
      "Plant Research                                           1\n",
      "Biochemistry                                             1\n",
      "Biomedical, industrial and human factors engineering     1\n",
      "Biology                                                  1\n",
      "Psychiatry                                               1\n",
      "Name: Discipline or Domain, dtype: int64\n"
     ]
    }
   ],
   "source": [
    "discipline = []\n",
    "discipline = df['Discipline or Domain'].value_counts()\n",
    "print(discipline)"
   ]
  },
  {
   "cell_type": "code",
   "execution_count": 7,
   "metadata": {},
   "outputs": [
    {
     "name": "stdout",
     "output_type": "stream",
     "text": [
      "Yale University                                                                         6\n",
      "University of California – Los Angeles                                                  4\n",
      "Dartmouth College                                                                       4\n",
      "University of Kentucky                                                                  4\n",
      "Michigan State University                                                               3\n",
      "Stanford University                                                                     3\n",
      "University of Georgia                                                                   3\n",
      "University of California-Berkeley                                                       3\n",
      "Columbus State Community College                                                        2\n",
      "College of Charleston                                                                   2\n",
      "University of Southern California                                                       2\n",
      "University of North Florida                                                             2\n",
      "University of Texas                                                                     2\n",
      "Harvard University                                                                      2\n",
      "California Polytechnic State University                                                 2\n",
      "University of Iowa                                                                      2\n",
      "Iowa State University                                                                   2\n",
      "Texas A&M University                                                                    2\n",
      "University of Florida                                                                   2\n",
      "Columbia University                                                                     2\n",
      "Purdue University                                                                       2\n",
      "University of California – Berkeley                                                     2\n",
      "University of Missouri at Kansas City                                                   2\n",
      "University of Pennsylvania                                                              2\n",
      "University of California – San Francisco                                                2\n",
      "Ohio University                                                                         2\n",
      "Weber State University                                                                  2\n",
      "University of California – Davis                                                        2\n",
      "Rutgers University                                                                      1\n",
      "Emporia State University                                                                1\n",
      "                                                                                       ..\n",
      "New River Community and Technical College                                               1\n",
      "Albany State University                                                                 1\n",
      "Guilford College                                                                        1\n",
      "School for Field Studies (students at Northeastern University earned course credit).    1\n",
      "Liberty University                                                                      1\n",
      "Tidewater Community College                                                             1\n",
      "University of Minnesota – Twin Cities                                                   1\n",
      "Central Connecticut State University                                                    1\n",
      "University of Pittsburgh                                                                1\n",
      "University of Kansas                                                                    1\n",
      "Southern University                                                                     1\n",
      "Salisbury University                                                                    1\n",
      "West Virginia University                                                                1\n",
      "Georgia Southern University                                                             1\n",
      "Antelope Valley College.                                                                1\n",
      "Roane State Community College                                                           1\n",
      "Pennsylvania State University – Hazleton.                                               1\n",
      "University of North Dakota                                                              1\n",
      "North Dakota State College of Science-Wahpeton                                          1\n",
      "Delta College                                                                           1\n",
      "Eastern Kentucky University                                                             1\n",
      "Western Washington University                                                           1\n",
      "Norfolk State University                                                                1\n",
      "Boston University                                                                       1\n",
      "Gateway Community College                                                               1\n",
      "Tulsa Community College – Metro campus                                                  1\n",
      "University of Illinois-Rockford                                                         1\n",
      "St. Phillip’s College                                                                   1\n",
      "Indiana University South Bend                                                           1\n",
      "University of Texas-El Paso                                                             1\n",
      "Name: Institution and/or Professional Society, Length: 146, dtype: int64\n"
     ]
    }
   ],
   "source": [
    "institution = []\n",
    "institution = df['Institution and/or Professional Society'].value_counts()\n",
    "print(institution)"
   ]
  },
  {
   "cell_type": "code",
   "execution_count": 8,
   "metadata": {},
   "outputs": [
    {
     "data": {
      "text/plain": [
       "Lawrence Krauss                                      3\n",
       "Dorrance W. Larson                                   1\n",
       "Geoff Marcy                                          1\n",
       "NAME REDACTED FROM OFFICIAL REPORT                   1\n",
       "Terry Speed                                          1\n",
       "Cara Hale                                            1\n",
       "Jamal Ghoroghchian                                   1\n",
       "George Tyndall                                       1\n",
       "Philip Jemilohun                                     1\n",
       "Gianluigi Veglia                                     1\n",
       "Ali Borji                                            1\n",
       "Greg Gaston                                          1\n",
       "Jacob Orlofsky                                       1\n",
       "Raul Caffesse                                        1\n",
       "Thomas Brutnell                                      1\n",
       "Lorne Wolf                                           1\n",
       "Santanu Raychaudhuri                                 1\n",
       "Craig VanderPloeg                                    1\n",
       "Edward C. Gardiner                                   1\n",
       "Jason Alan Williams                                  1\n",
       "Harvey J. Makadon                                    1\n",
       "Nicholas Santangelo                                  1\n",
       "NAME WITHHELD (faculty in mechanical engineering)    1\n",
       "Michael Ehlert                                       1\n",
       "Sunggyu Lee                                          1\n",
       "Vishal Lamba                                         1\n",
       "Jackie Conrad                                        1\n",
       "Charles Rosen                                        1\n",
       "Jay Glosser                                          1\n",
       "Steven Chamberlain                                   1\n",
       "                                                    ..\n",
       "Howard D’Abrera                                      1\n",
       "Inder Verma                                          1\n",
       "John Kennedy                                         1\n",
       "Matthew C. Moeller                                   1\n",
       "Emanuele Castano                                     1\n",
       "J.D. Oliver                                          1\n",
       "Ken Stephens                                         1\n",
       "Joshua Smith                                         1\n",
       "Richard Rose                                         1\n",
       "Timothy Frederick Slater                             1\n",
       "Pavel Naumov                                         1\n",
       "Mark Tumeo                                           1\n",
       "Robin Bowers                                         1\n",
       "Matthew Sedlak                                       1\n",
       "Joseph H. Levenstein                                 1\n",
       "Jason Fritzler                                       1\n",
       "Jeffrey Thomas                                       1\n",
       "William Kelley                                       1\n",
       "Richard Schneider                                    1\n",
       "Alan Schreiber                                       1\n",
       "Qais Al-Awqati                                       1\n",
       "Jay Jorgenson                                        1\n",
       "James Teuscher                                       1\n",
       "Mark Jensen                                          1\n",
       "David Holtzman                                       1\n",
       "Kayode Adesogan                                      1\n",
       "James Harwood                                        1\n",
       "David Barton                                         1\n",
       "Catherine Woytowicz                                  1\n",
       "Michael Simons                                       1\n",
       "Name: Name, Length: 185, dtype: int64"
      ]
     },
     "execution_count": 8,
     "metadata": {},
     "output_type": "execute_result"
    }
   ],
   "source": [
    "df['Name'].value_counts()"
   ]
  },
  {
   "cell_type": "code",
   "execution_count": 9,
   "metadata": {},
   "outputs": [
    {
     "name": "stdout",
     "output_type": "stream",
     "text": [
      "resigned/retired                       68\n",
      "fired                                  40\n",
      "no action                              17\n",
      "suspended                              16\n",
      "arrested/imprisoned/convicted          16\n",
      "demoted/reprimanded                    12\n",
      "lawsuit settled/monetary punishment     9\n",
      "banned from premesis                    6\n",
      "death                                   5\n",
      "Name: Outcome, dtype: int64\n"
     ]
    }
   ],
   "source": [
    "outcome = []\n",
    "outcome = df['Outcome'].value_counts()\n",
    "print(outcome)"
   ]
  },
  {
   "cell_type": "code",
   "execution_count": null,
   "metadata": {},
   "outputs": [],
   "source": []
  }
 ],
 "metadata": {
  "kernelspec": {
   "display_name": "Python 3",
   "language": "python",
   "name": "python3"
  },
  "language_info": {
   "codemirror_mode": {
    "name": "ipython",
    "version": 3
   },
   "file_extension": ".py",
   "mimetype": "text/x-python",
   "name": "python",
   "nbconvert_exporter": "python",
   "pygments_lexer": "ipython3",
   "version": "3.7.1"
  }
 },
 "nbformat": 4,
 "nbformat_minor": 2
}
